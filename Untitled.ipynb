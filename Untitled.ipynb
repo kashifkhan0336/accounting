{
 "cells": [
  {
   "cell_type": "code",
   "execution_count": 181,
   "id": "d4100ce6",
   "metadata": {},
   "outputs": [
    {
     "name": "stdout",
     "output_type": "stream",
     "text": [
      "  Date Particulars      Debit     Credit\n",
      "0  1.0        Cash  1200000.0        NaN\n",
      "1  1.0     Capital        NaN  1200000.0\n",
      "  Date Particulars    Debit   Credit\n",
      "3  2.0    Computer  60000.0      NaN\n",
      "4  2.0        Cash      NaN  60000.0\n",
      "  Date Particulars     Debit    Credit\n",
      "6  3.0   Generator  100000.0       NaN\n",
      "7  3.0        Cash       NaN  100000.0\n",
      "   Date Particulars    Debit   Credit\n",
      "9   4.0   Purchases  80000.0      NaN\n",
      "10  4.0        Cash      NaN  80000.0\n",
      "   Date      Particulars    Debit   Credit\n",
      "12  5.0        Purchases  80000.0      NaN\n",
      "13  5.0  Account Payable      NaN  80000.0\n",
      "   Date     Particulars    Debit   Credit\n",
      "15  6.0       Purchases  80000.0      NaN\n",
      "16  6.0  Kashif Payable      NaN  80000.0\n",
      "   Date Particulars    Debit   Credit\n",
      "18  7.0       Tools  50000.0      NaN\n",
      "19  7.0        Cash      NaN  50000.0\n",
      "   Date   Particulars    Debit   Credit\n",
      "21  8.0  Rent Expense  70000.0      NaN\n",
      "22  8.0          Cash      NaN  70000.0\n",
      "   Date Particulars     Debit    Credit\n",
      "24  9.0        Bank  300000.0       NaN\n",
      "25  9.0        Cash       NaN  300000.0\n",
      "    Date       Particulars     Debit    Credit\n",
      "27  10.0  Salaries Expense  240000.0       NaN\n",
      "28  10.0              Bank       NaN  240000.0\n",
      "    Date Particulars    Debit   Credit\n",
      "30  11.0     Drawing  20000.0      NaN\n",
      "31  11.0   Purchases      NaN  10000.0\n",
      "32  11.0        Cash      NaN  10000.0\n"
     ]
    }
   ],
   "source": [
    "import pandas as pd\n",
    "df = pd.read_excel(\"test.xlsx\")\n",
    "idx = [-1] + df.index[df.isnull().all(1)].tolist() + [df.shape[0]]\n",
    "list_of_dfs = [df.iloc[idx[n]+1:idx[n+1]] for n in range(len(idx)-1)]\n",
    "entry = list_of_dfs[1]\n",
    "unique_accounts = df[\"Particulars\"].dropna().unique()\n",
    "general_entries = []\n",
    "#print(list_of_dfs[0].get(['Particulars',]))\n",
    "credits = [df.iloc[[x]].get([\"Date\", \"Particulars\",\"Credit\"]) for x in entry.index[entry[\"Credit\"].notnull()].tolist()]\n",
    "debits = [df.iloc[[x]].get([\"Date\", \"Particulars\",\"Debit\"]) for x in entry.index[entry[\"Debit\"].notnull()].tolist()]\n",
    "#print(list_of_dfs[2].assign(Date=\"3.0\"))\n",
    "# for e in debits:\n",
    "#     print(e)\n",
    "    \n",
    "# for e in credits:\n",
    "#     print(e)\n",
    "for i in range(len(list_of_dfs)):\n",
    "    print(list_of_dfs[i].assign(Date=str(float(list_of_dfs[i][\"Date\"].iloc[[0]]))))\n",
    "#str(float(list_of_dfs[2][\"Date\"].iloc[[0]]))"
   ]
  },
  {
   "cell_type": "code",
   "execution_count": null,
   "id": "2ff33b85",
   "metadata": {},
   "outputs": [],
   "source": [
    "#df.loc[df['Particulars'] == \"Cash\"]\n",
    "list_of_dfs[1].index[list_of_dfs[1][\"Date\"].notnull()].tolist()[0]\n"
   ]
  },
  {
   "cell_type": "code",
   "execution_count": 115,
   "id": "94c38950",
   "metadata": {},
   "outputs": [
    {
     "name": "stdout",
     "output_type": "stream",
     "text": [
      "['Cash' 'Capital' 'Computer' 'Generator' 'Purchases' 'Account Payable'\n",
      " 'Kashif Payable' 'Tools' 'Rent Expense' 'Bank' 'Salaries Expense'\n",
      " 'Drawing']\n"
     ]
    }
   ],
   "source": [
    "unique_accounts = df[\"Particulars\"].dropna().unique()\n",
    "print(unique_accounts)"
   ]
  },
  {
   "cell_type": "code",
   "execution_count": 9,
   "id": "937745ce",
   "metadata": {},
   "outputs": [
    {
     "data": {
      "text/plain": [
       "(33, 4)"
      ]
     },
     "execution_count": 9,
     "metadata": {},
     "output_type": "execute_result"
    }
   ],
   "source": [
    "df.shape"
   ]
  },
  {
   "cell_type": "code",
   "execution_count": null,
   "id": "717947b8",
   "metadata": {},
   "outputs": [],
   "source": []
  }
 ],
 "metadata": {
  "kernelspec": {
   "display_name": "Python 3 (ipykernel)",
   "language": "python",
   "name": "python3"
  },
  "language_info": {
   "codemirror_mode": {
    "name": "ipython",
    "version": 3
   },
   "file_extension": ".py",
   "mimetype": "text/x-python",
   "name": "python",
   "nbconvert_exporter": "python",
   "pygments_lexer": "ipython3",
   "version": "3.11.0"
  }
 },
 "nbformat": 4,
 "nbformat_minor": 5
}
